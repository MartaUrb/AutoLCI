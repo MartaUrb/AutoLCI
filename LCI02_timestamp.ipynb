{
 "cells": [
  {
   "cell_type": "code",
   "execution_count": 1,
   "metadata": {},
   "outputs": [
    {
     "ename": "IndexError",
     "evalue": "list index out of range",
     "output_type": "error",
     "traceback": [
      "\u001b[0;31m---------------------------------------------------------------------------\u001b[0m",
      "\u001b[0;31mIndexError\u001b[0m                                Traceback (most recent call last)",
      "Cell \u001b[0;32mIn[1], line 16\u001b[0m\n\u001b[1;32m     14\u001b[0m motherdir \u001b[38;5;241m=\u001b[39m os\u001b[38;5;241m.\u001b[39mpath\u001b[38;5;241m.\u001b[39mdirname(filedir)\n\u001b[1;32m     15\u001b[0m parts \u001b[38;5;241m=\u001b[39m filedir\u001b[38;5;241m.\u001b[39msplit(os\u001b[38;5;241m.\u001b[39msep)\n\u001b[0;32m---> 16\u001b[0m filenameroot \u001b[38;5;241m=\u001b[39m \u001b[43mparts\u001b[49m\u001b[43m[\u001b[49m\u001b[38;5;241;43m-\u001b[39;49m\u001b[38;5;241;43m2\u001b[39;49m\u001b[43m]\u001b[49m\n\u001b[1;32m     17\u001b[0m \u001b[38;5;66;03m# list all tiff files in the directory\u001b[39;00m\n\u001b[1;32m     18\u001b[0m filelist \u001b[38;5;241m=\u001b[39m [f \u001b[38;5;28;01mfor\u001b[39;00m f \u001b[38;5;129;01min\u001b[39;00m os\u001b[38;5;241m.\u001b[39mlistdir(filedir) \u001b[38;5;28;01mif\u001b[39;00m f\u001b[38;5;241m.\u001b[39mendswith(\u001b[38;5;124m'\u001b[39m\u001b[38;5;124m.tiff\u001b[39m\u001b[38;5;124m'\u001b[39m) \u001b[38;5;129;01mand\u001b[39;00m \u001b[38;5;124m'\u001b[39m\u001b[38;5;124m._\u001b[39m\u001b[38;5;124m'\u001b[39m \u001b[38;5;129;01mnot\u001b[39;00m \u001b[38;5;129;01min\u001b[39;00m f] \u001b[38;5;66;03m# make a list of all tsv files in data directory\u001b[39;00m\n",
      "\u001b[0;31mIndexError\u001b[0m: list index out of range"
     ]
    }
   ],
   "source": [
    "import os as os\n",
    "import tkinter as tk\n",
    "from tkinter import filedialog\n",
    "import string\n",
    "from PIL import Image\n",
    "import datetime\n",
    "\n",
    "#select directory with image files\n",
    "scriptdir = os.path.dirname(os.getcwd()) # get the script directory\n",
    "root = tk.Tk()\n",
    "root.withdraw()\n",
    "filedir = tk.filedialog.askdirectory(initialdir  = scriptdir) # manually select the directory with the files to rename\n",
    "#os.chdir(filedir) # set the directory with files as current directory\n",
    "motherdir = os.path.dirname(filedir)\n",
    "parts = filedir.split(os.sep)\n",
    "filenameroot = parts[-2]\n",
    "# list all tiff files in the directory\n",
    "filelist = [f for f in os.listdir(filedir) if f.endswith('.tiff') and '._' not in f] # make a list of all tsv files in data directory\n",
    "#filelist = sorted(filelist) #sort files by name\n",
    "numfiles = len(filelist)\n",
    "\n"
   ]
  },
  {
   "cell_type": "code",
   "execution_count": 11,
   "metadata": {},
   "outputs": [
    {
     "name": "stdout",
     "output_type": "stream",
     "text": [
      "1.tiff: 2024-04-28 20:32:46\n",
      "10.tiff: 2024-04-29 05:31:36\n",
      "11.tiff: 2024-04-29 06:31:40\n",
      "12.tiff: 2024-04-29 07:32:02\n",
      "13.tiff: 2024-04-29 08:31:56\n",
      "14.tiff: 2024-04-29 09:32:24\n",
      "15.tiff: 2024-04-29 10:31:32\n",
      "16.tiff: 2024-04-29 11:33:04\n",
      "17.tiff: 2024-04-29 12:33:58\n",
      "18.tiff: 2024-04-29 13:33:02\n",
      "19.tiff: 2024-04-29 14:33:18\n",
      "2.tiff: 2024-04-28 21:31:56\n",
      "20.tiff: 2024-04-29 15:33:50\n",
      "3.tiff: 2024-04-28 22:31:36\n",
      "4.tiff: 2024-04-28 23:32:14\n",
      "5.tiff: 2024-04-29 00:31:48\n",
      "6.tiff: 2024-04-29 01:31:44\n",
      "7.tiff: 2024-04-29 02:32:44\n",
      "8.tiff: 2024-04-29 03:32:30\n",
      "9.tiff: 2024-04-29 04:32:22\n"
     ]
    }
   ],
   "source": [
    "\n",
    "def get_creation_times(filedir, filelist):\n",
    "    creation_times = {}\n",
    "    for filename in filelist:\n",
    "        # Construct the full path to the file\n",
    "        file_path = os.path.join(filedir, filename)\n",
    "        \n",
    "        # Get the file stats\n",
    "        try:\n",
    "            stat_info = os.stat(file_path)\n",
    "            # Extract the creation time and convert to a readable format\n",
    "            creation_time = datetime.datetime.fromtimestamp(stat_info.st_mtime)\n",
    "            creation_times[filename] = creation_time\n",
    "        except AttributeError:\n",
    "            # Handle the case where st_birthtime is not available\n",
    "            creation_times[filename] = \"Creation time not supported on this platform\"\n",
    "        except FileNotFoundError:\n",
    "            # Handle the case where the file does not exist\n",
    "            creation_times[filename] = \"File not found\"\n",
    "\n",
    "    return creation_times\n",
    "\n",
    "creation_times = get_creation_times(filedir, filelist)\n",
    "for file, time in creation_times.items():\n",
    "    print(f\"{file}: {time}\")"
   ]
  }
 ],
 "metadata": {
  "kernelspec": {
   "display_name": "bia-mu",
   "language": "python",
   "name": "python3"
  },
  "language_info": {
   "codemirror_mode": {
    "name": "ipython",
    "version": 3
   },
   "file_extension": ".py",
   "mimetype": "text/x-python",
   "name": "python",
   "nbconvert_exporter": "python",
   "pygments_lexer": "ipython3",
   "version": "3.11.4"
  }
 },
 "nbformat": 4,
 "nbformat_minor": 2
}
