{
 "cells": [
  {
   "cell_type": "code",
   "execution_count": 82,
   "metadata": {},
   "outputs": [
    {
     "name": "stdout",
     "output_type": "stream",
     "text": [
      "start time:\n",
      "2024-04-29 16:39:47\n",
      "number of files:\n",
      "1\n"
     ]
    }
   ],
   "source": [
    "import os as os\n",
    "import tkinter as tk\n",
    "from tkinter import filedialog\n",
    "import string\n",
    "from PIL import Image\n",
    "import datetime\n",
    "import shutil\n",
    "\n",
    "### IMPORT FILES AND CREATE FILENAMES/LIST \n",
    "#select directory with image files\n",
    "scriptdir = os.path.dirname(os.getcwd()) # get the script directory\n",
    "root = tk.Tk()\n",
    "root.withdraw()\n",
    "filedir = tk.filedialog.askdirectory(initialdir  = scriptdir) # manually select the directory with the files to rename\n",
    "#os.chdir(filedir) # set the directory with files as current directory\n",
    "motherdir = os.path.dirname(filedir)\n",
    "parts = filedir.split(os.sep)\n",
    "filenameroot = parts[-2]\n",
    "positions = [pos for pos, char in enumerate(filenameroot) if char == '_']\n",
    "filenameroot_short = filenameroot[positions[0]+1:positions[4]] + '_' + filenameroot[positions[-4]+1:positions[-3]]\n",
    "starttime = filenameroot[positions[-1]+1:]\n",
    "startdate = filenameroot[positions[-2]+1:positions[-1]]\n",
    "\n",
    "\n",
    "def create_datetime(date_str, time_str):\n",
    "    # Extract date components\n",
    "    year = int(date_str[0:4])\n",
    "    month = int(date_str[4:6])\n",
    "    day = int(date_str[6:8])\n",
    "    \n",
    "    # Extract time components\n",
    "    hour = int(time_str[0:2])\n",
    "    minute = int(time_str[2:4])\n",
    "    second = int(time_str[4:6])\n",
    "    \n",
    "    # Create datetime object\n",
    "    return datetime.datetime(year, month, day, hour, minute, second)\n",
    "\n",
    "startdt = create_datetime(startdate, starttime)\n",
    "print('start time:')\n",
    "print(startdt)\n",
    "\n",
    "# list all tiff files in the directory\n",
    "filelist = [f for f in os.listdir(filedir) if f.endswith('.tiff') and '._' not in f] # make a list of all tsv files in data directory\n",
    "#filelist = sorted(filelist) #sort files by name\n",
    "\n",
    "# sort files by time\n",
    "filelist = [os.path.join(filedir, f) for f in filelist] #add path to file name\n",
    "filelist.sort(key=os.path.getmtime) #sort files by time\n",
    "filelist = [os.path.basename(f) for f in filelist] #remove path from filename\n",
    "numfiles = len(filelist)\n",
    "print('number of files:')\n",
    "print(numfiles)\n"
   ]
  },
  {
   "cell_type": "code",
   "execution_count": 83,
   "metadata": {},
   "outputs": [
    {
     "name": "stdout",
     "output_type": "stream",
     "text": [
      "first file time: \n",
      "2024-04-29 16:57:28\n",
      "time per plate: \n",
      "0:17:41\n"
     ]
    }
   ],
   "source": [
    "### EXTRACT THE CREATION TIME OF THE FILES VIA TIME MODIFIED\n",
    "def get_creation_times(filedir, filelist):\n",
    "    creation_times = {}\n",
    "    for filename in filelist:\n",
    "        # Construct the full path to the file\n",
    "        file_path = os.path.join(filedir, filename)\n",
    "        \n",
    "        # Get the file stats\n",
    "        try:\n",
    "            stat_info = os.stat(file_path)\n",
    "            # Extract the creation time and convert to a readable format\n",
    "            creation_time = datetime.datetime.fromtimestamp(stat_info.st_mtime)\n",
    "            creation_times[filename] = creation_time\n",
    "        except AttributeError:\n",
    "            # Handle the case where st_birthtime is not available\n",
    "            creation_times[filename] = \"Creation time not supported on this platform\"\n",
    "        except FileNotFoundError:\n",
    "            # Handle the case where the file does not exist\n",
    "            creation_times[filename] = \"File not found\"\n",
    "\n",
    "    return creation_times\n",
    "\n",
    "creation_times = get_creation_times(filedir, filelist)\n",
    "#for file, time in creation_times.items():\n",
    "    #print(f\"{file}: {time}\")\n",
    "\n",
    "first_datetime = creation_times['1.tiff']\n",
    "print('first file time: ')\n",
    "print(first_datetime)\n",
    "\n",
    "timeperplate = first_datetime - startdt;\n",
    "print('time per plate: ')\n",
    "print(timeperplate)\n",
    "\n"
   ]
  },
  {
   "cell_type": "code",
   "execution_count": 84,
   "metadata": {},
   "outputs": [
    {
     "name": "stdout",
     "output_type": "stream",
     "text": [
      "1.tiff: 2024-04-29 16:48:37.500000\n"
     ]
    }
   ],
   "source": [
    "#subtract half of the time of acquisition per plate\n",
    "# Iterate through the dictionary and update each datetime\n",
    "updated_file_times = {key: value - timeperplate/2 for key, value in creation_times.items()}\n",
    "\n",
    "# Print the updated dictionary to verify\n",
    "for file, new_time in updated_file_times.items():\n",
    "    print(f\"{file}: {new_time}\")"
   ]
  },
  {
   "cell_type": "code",
   "execution_count": 85,
   "metadata": {},
   "outputs": [
    {
     "name": "stdout",
     "output_type": "stream",
     "text": [
      "['20240429_164837_GV41_d6_PL1_snap_FL5p_01.tiff']\n"
     ]
    }
   ],
   "source": [
    "#CREATE NEW FILENAMES CONTAINING THE TIME OF ACQUISITION  \n",
    "midphrase = [filelist[j][0:-5] for j in range(0,len(filelist))]\n",
    "for j in range(0,len(filelist)):\n",
    "    if len(filelist[j][0:-5]) == 1:\n",
    "        midphrase[j] = '0'+filelist[j][0:-5]\n",
    "filename_new = [updated_file_times[filelist[j]].strftime(\"%Y%m%d_%H%M%S\")+ '_' + filenameroot_short + '_' + midphrase[j] +  '.tiff' for j in range(0,len(filelist))]\n",
    "print(filename_new)"
   ]
  },
  {
   "cell_type": "code",
   "execution_count": 86,
   "metadata": {},
   "outputs": [
    {
     "name": "stdout",
     "output_type": "stream",
     "text": [
      "File copied to /Volumes/MUrb_PDN/AutoLCI/01_Gastruloids/20240425-29_GV41_d02-d06_EzrCA_DoxWithd/GV41_PL1_d04-d06_collected_FL5_snaps/20240429_164837_GV41_d6_PL1_snap_FL5p_01.tiff\n"
     ]
    }
   ],
   "source": [
    "#### Create a copy of teh tiffs with new name including time in collected folder\n",
    "\n",
    "def copy_tiff_file(source_path, destination_folder, filenew, fileold):\n",
    "    # Extract filename from the source path\n",
    "    filename = filenew\n",
    "    \n",
    "    # Create the destination path\n",
    "    destination_path = os.path.join(destination_folder, filenew)\n",
    "    \n",
    "    # Check if the source file exists\n",
    "    if not os.path.isfile(source_path):\n",
    "        return \"Source file does not exist.\"\n",
    "\n",
    "    # Check if the destination directory exists, if not, create it\n",
    "    if not os.path.exists(destination_folder):\n",
    "        os.makedirs(destination_folder)\n",
    "        print(f\"Destination directory '{destination_folder}' created.\")\n",
    "\n",
    "    # Copy the file to the new location\n",
    "    shutil.copy(source_path, destination_path)\n",
    "    return f\"File copied to {destination_path}\"\n",
    "\n",
    "destination_dir = os.path.join('/'.join(parts[0:-2]), 'GV41_PL1_d04-d06_collected_FL5_snaps')\n",
    "\n",
    "for i in range (0, len(filename_new)):\n",
    "    source_tiff_path = os.path.join(filedir,filelist[i])\n",
    "    result = copy_tiff_file(source_tiff_path, destination_dir, filename_new[i],  filelist[i])\n",
    "    print(result)\n"
   ]
  }
 ],
 "metadata": {
  "kernelspec": {
   "display_name": "bia-mu",
   "language": "python",
   "name": "python3"
  },
  "language_info": {
   "codemirror_mode": {
    "name": "ipython",
    "version": 3
   },
   "file_extension": ".py",
   "mimetype": "text/x-python",
   "name": "python",
   "nbconvert_exporter": "python",
   "pygments_lexer": "ipython3",
   "version": "3.11.4"
  }
 },
 "nbformat": 4,
 "nbformat_minor": 2
}
